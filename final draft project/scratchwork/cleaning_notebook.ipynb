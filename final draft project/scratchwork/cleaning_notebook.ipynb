{
 "cells": [
  {
   "cell_type": "code",
   "execution_count": null,
   "metadata": {},
   "outputs": [],
   "source": [
    "import pandas as pd\n",
    "import numpy as np\n",
    "\n",
    "data = pd.read_csv(\"data_download.csv\")\n",
    "data = data.dropna()  \n",
    "\n",
    "#Remove Outliers\n",
    "print(\"Removing outliers...\")\n",
    "def remove_outliers(df, columns):\n",
    "    z_scores = np.abs((df[columns] - df[columns].mean()) / df[columns].std())\n",
    "    return df[(z_scores < 3).all(axis=1)]\n",
    "\n",
    "numerical_columns = [\"Open\", \"High\", \"Low\", \"Close\", \"Adj Close\", \"Volume\"]\n",
    "data = remove_outliers(data, numerical_columns)\n",
    "\n",
    "# Normalization\n",
    "print(\"Normalizing price columns...\")\n",
    "for column in [\"Open\", \"High\", \"Low\", \"Close\", \"Adj Close\"]:\n",
    "    if column in data.columns:\n",
    "        data[column] = data[column] / data[column].iloc[0]  # Normalize by the first available value"
   ]
  },
  {
   "cell_type": "code",
   "execution_count": 3,
   "metadata": {},
   "outputs": [],
   "source": [
    "data.to_csv(\"cleaned_data.csv\", index=False)"
   ]
  }
 ],
 "metadata": {
  "kernelspec": {
   "display_name": "Python 3",
   "language": "python",
   "name": "python3"
  },
  "language_info": {
   "codemirror_mode": {
    "name": "ipython",
    "version": 3
   },
   "file_extension": ".py",
   "mimetype": "text/x-python",
   "name": "python",
   "nbconvert_exporter": "python",
   "pygments_lexer": "ipython3",
   "version": "3.10.4"
  }
 },
 "nbformat": 4,
 "nbformat_minor": 2
}
