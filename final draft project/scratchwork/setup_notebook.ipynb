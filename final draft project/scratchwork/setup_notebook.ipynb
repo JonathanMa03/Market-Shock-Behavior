{
 "cells": [
  {
   "cell_type": "code",
   "execution_count": 10,
   "metadata": {},
   "outputs": [
    {
     "name": "stdout",
     "output_type": "stream",
     "text": [
      "Fetching data from yfinance...\n"
     ]
    },
    {
     "name": "stderr",
     "output_type": "stream",
     "text": [
      "[*********************100%***********************]  21 of 21 completed"
     ]
    },
    {
     "name": "stdout",
     "output_type": "stream",
     "text": [
      "Data retrieved successfully.\n"
     ]
    },
    {
     "name": "stderr",
     "output_type": "stream",
     "text": [
      "\n",
      "/var/folders/38/22n3rn6s7gjdhyf__np8757r0000gn/T/ipykernel_39003/511987333.py:34: FutureWarning: The previous implementation of stack is deprecated and will be removed in a future version of pandas. See the What's New notes for pandas 2.1.0 for details. Specify future_stack=True to adopt the new implementation and silence this warning.\n",
      "  data = data.stack(level=0).reset_index(level=1)\n"
     ]
    }
   ],
   "source": [
    "import yfinance as yf\n",
    "import pandas as pd\n",
    "import os\n",
    "\n",
    "# Define the list of tickers\n",
    "tickers = [\n",
    "    \"AAPL\", \"MSFT\", \"GOOGL\",  # Technology\n",
    "    \"AMZN\", \"MCD\",            # Consumer Discretionary\n",
    "    \"JNJ\", \"PFE\",             # Healthcare\n",
    "    \"JPM\", \"BAC\",             # Financials\n",
    "    \"GE\", \"MMM\",              # Industrials\n",
    "    \"NEE\", \"DUK\",             # Utilities\n",
    "    \"XOM\", \"CVX\",             # Energy\n",
    "    \"PG\", \"KO\",               # Consumer Staples\n",
    "    \"META\", \"CMCSA\",          # Communication Services\n",
    "    \"AMT\", \"PLD\"              # Real Estate\n",
    "]\n",
    "\n",
    "# Set the date range\n",
    "start_date = \"2007-01-01\"\n",
    "end_date = \"2023-12-31\"\n",
    "\n",
    "# Fetch the data from yfinance\n",
    "print(\"Fetching data from yfinance...\")\n",
    "data = yf.download(tickers, start=start_date, end=end_date, interval=\"1d\", group_by=\"ticker\")\n",
    "\n",
    "# Check if data was retrieved successfully\n",
    "if data.empty:\n",
    "    print(\"No data retrieved. Please check tickers and date range.\")\n",
    "else:\n",
    "    print(\"Data retrieved successfully.\")\n",
    "    data = data.stack(level=0).reset_index(level=1)\n",
    "    data.rename(columns={'level_1': 'Ticker'}, inplace=True)\n",
    "    data = data.reset_index()\n",
    "    data.columns.name = None"
   ]
  },
  {
   "cell_type": "code",
   "execution_count": 15,
   "metadata": {},
   "outputs": [],
   "source": [
    "data.to_csv('data_download.csv', index=False)"
   ]
  }
 ],
 "metadata": {
  "kernelspec": {
   "display_name": "Python 3",
   "language": "python",
   "name": "python3"
  },
  "language_info": {
   "codemirror_mode": {
    "name": "ipython",
    "version": 3
   },
   "file_extension": ".py",
   "mimetype": "text/x-python",
   "name": "python",
   "nbconvert_exporter": "python",
   "pygments_lexer": "ipython3",
   "version": "3.10.4"
  }
 },
 "nbformat": 4,
 "nbformat_minor": 2
}
